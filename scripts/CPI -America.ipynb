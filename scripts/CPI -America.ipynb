{
 "cells": [
  {
   "cell_type": "code",
   "execution_count": 1,
   "id": "a1fc02f2",
   "metadata": {},
   "outputs": [
    {
     "name": "stdout",
     "output_type": "stream",
     "text": [
      "最近四个季度的通胀率：\n",
      "Quarter\n",
      "2024Q1    0.728008\n",
      "2024Q2    0.697987\n",
      "2024Q3    0.304423\n",
      "2024Q4    0.426703\n",
      "Freq: Q-DEC, Name: CPIAUCSL, dtype: float64\n"
     ]
    }
   ],
   "source": [
    "import pandas as pd\n",
    "import pandas_datareader as pdr\n",
    "from datetime import datetime\n",
    "\n",
    "def fetch_us_cpi_data():\n",
    "    \"\"\"获取美国消费者价格指数 (CPI) 数据并计算最近四个季度的通胀率。\"\"\"\n",
    "    try:\n",
    "        # 设置时间范围为最近一年\n",
    "        start_date = datetime.now().replace(year=datetime.now().year - 1)\n",
    "        end_date = datetime.now()\n",
    "\n",
    "        # 从 FRED 获取 CPI 数据\n",
    "        cpi_data = pdr.get_data_fred('CPIAUCSL', start=start_date, end=end_date)\n",
    "\n",
    "        # 计算每个季度的平均值\n",
    "        cpi_data['Quarter'] = cpi_data.index.to_period('Q')\n",
    "        quarterly_cpi = cpi_data.groupby('Quarter')['CPIAUCSL'].mean()\n",
    "\n",
    "        # 计算季度通胀率\n",
    "        inflation_rate = quarterly_cpi.pct_change() * 100\n",
    "\n",
    "        # 返回最近四个季度的数据\n",
    "        return inflation_rate.tail(4)\n",
    "    except Exception as e:\n",
    "        print(f\"获取 CPI 数据时出错：{e}\")\n",
    "        return None\n",
    "\n",
    "if __name__ == \"__main__\":\n",
    "    print(\"最近四个季度的通胀率：\")\n",
    "    print(fetch_us_cpi_data())\n"
   ]
  },
  {
   "cell_type": "code",
   "execution_count": null,
   "id": "2d21cb51",
   "metadata": {},
   "outputs": [],
   "source": []
  }
 ],
 "metadata": {
  "kernelspec": {
   "display_name": "Python 3 (ipykernel)",
   "language": "python",
   "name": "python3"
  },
  "language_info": {
   "codemirror_mode": {
    "name": "ipython",
    "version": 3
   },
   "file_extension": ".py",
   "mimetype": "text/x-python",
   "name": "python",
   "nbconvert_exporter": "python",
   "pygments_lexer": "ipython3",
   "version": "3.11.5"
  }
 },
 "nbformat": 4,
 "nbformat_minor": 5
}
